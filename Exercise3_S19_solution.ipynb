{
 "cells": [
  {
   "cell_type": "markdown",
   "metadata": {},
   "source": [
    "## Linear Regression\n",
    "\n",
    "In this exercise we will fit a linear regression model using two libraries (statsmodels and sklearn). Using statsmodels you will be able to get the statistical tests and significance of the features. We will then use sklearn to fit a linear model and get the test accuracy. \n",
    "\n"
   ]
  },
  {
   "cell_type": "markdown",
   "metadata": {},
   "source": [
    "#### A) Using the advertising data, use the statsmodel to fit an OLS model that predicts the sales using features (TV, Radio and Newspaper). Print the p-values and confidence interval of features. \n",
    "\n"
   ]
  },
  {
   "cell_type": "code",
   "execution_count": 6,
   "metadata": {},
   "outputs": [
    {
     "name": "stdout",
     "output_type": "stream",
     "text": [
      "==============================================================================\n",
      "                 coef    std err          t      P>|t|      [0.025      0.975]\n",
      "------------------------------------------------------------------------------\n",
      "Intercept      2.9389      0.312      9.422      0.000       2.324       3.554\n",
      "TV             0.0458      0.001     32.809      0.000       0.043       0.049\n",
      "Radio          0.1885      0.009     21.893      0.000       0.172       0.206\n",
      "Newspaper     -0.0010      0.006     -0.177      0.860      -0.013       0.011\n",
      "==============================================================================\n",
      "p-values are: \n",
      " Intercept    1.267295e-17\n",
      "TV           1.509960e-81\n",
      "Radio        1.505339e-54\n",
      "Newspaper    8.599151e-01\n",
      "dtype: float64\n"
     ]
    }
   ],
   "source": [
    "from pandas import read_csv\n",
    "import statsmodels.formula.api as smf\n",
    "\n",
    "AdvertisingData=read_csv('Advertising.csv')\n",
    "\n",
    "model=smf.ols('Sales ~ TV+Radio+Newspaper', AdvertisingData)\n",
    "Fitting_results=model.fit()\n",
    "print(Fitting_results.summary().tables[1])\n",
    "print('p-values are: \\n', Fitting_results.pvalues)"
   ]
  },
  {
   "cell_type": "markdown",
   "metadata": {},
   "source": [
    "Comment: results imply that newspaper is not important features, while other features have stong association with label (sales)"
   ]
  },
  {
   "cell_type": "markdown",
   "metadata": {},
   "source": [
    "#### B) Repeat  question (A) without the Radio feature. Comment on results (A) and (B). What do the results imply? "
   ]
  },
  {
   "cell_type": "code",
   "execution_count": 3,
   "metadata": {},
   "outputs": [
    {
     "name": "stdout",
     "output_type": "stream",
     "text": [
      "==============================================================================\n",
      "                 coef    std err          t      P>|t|      [0.025      0.975]\n",
      "------------------------------------------------------------------------------\n",
      "Intercept      5.7749      0.525     10.993      0.000       4.739       6.811\n",
      "TV             0.0469      0.003     18.173      0.000       0.042       0.052\n",
      "Newspaper      0.0442      0.010      4.346      0.000       0.024       0.064\n",
      "==============================================================================\n",
      "p-values are: \n",
      " Intercept    3.145860e-22\n",
      "TV           5.507584e-44\n",
      "Newspaper    2.217084e-05\n",
      "dtype: float64\n"
     ]
    }
   ],
   "source": [
    "model=smf.ols('Sales ~ TV+Newspaper', AdvertisingData)\n",
    "Fitting_results=model.fit()\n",
    "print(Fitting_results.summary().tables[1])\n",
    "print('p-values are: \\n', Fitting_results.pvalues)"
   ]
  },
  {
   "cell_type": "markdown",
   "metadata": {},
   "source": [
    "Comment: From (A) we can conclude that \"newspaper\" is not an important feature in determining the sales. From (B), it appears as if it is important. This implies that \"newspaper\" is correlated with an important feature used in (A) but removed from (B)..that is the \"radio\" feature.\n",
    "\n",
    "In other word, there would be correlation between Radio advertising and Newspaper advertising in markets where data was collected. But the Newspaper has little or no impact on increasing the sales. We can get the correlation matrix (check lecture slides) to check the correlations."
   ]
  },
  {
   "cell_type": "markdown",
   "metadata": {},
   "source": [
    "#### B) Using the Scikit-Learn library, fit a linear regression model using advertising trianing set, then find and print the test mean square (MSE) error and the $R^2$ score of the fitted model. Use random_state= 0 in the train_test_split function."
   ]
  },
  {
   "cell_type": "code",
   "execution_count": 5,
   "metadata": {},
   "outputs": [
    {
     "name": "stdout",
     "output_type": "stream",
     "text": [
      "Mean square error using TV feature is 8.73024887295\n",
      "The R-squared score is 0.6902574858\n"
     ]
    }
   ],
   "source": [
    "\n",
    "import numpy as np\n",
    "from sklearn.model_selection import train_test_split\n",
    "from sklearn.linear_model import LinearRegression\n",
    "from sklearn.metrics import mean_squared_error\n",
    "\n",
    "AdvertisingData=read_csv('Advertising.csv')\n",
    "X = AdvertisingData[['Radio', 'TV','Newspaper']].values\n",
    "Y = AdvertisingData.Sales\n",
    "X_train, X_test, Y_train, Y_test= train_test_split(X, Y, random_state= 0)\n",
    "\n",
    "# write you code here to answer the above question\n",
    "\n",
    "AdvertisingData=read_csv('Advertising.csv')\n",
    "X = AdvertisingData[[ 'TV']].values\n",
    "Y = AdvertisingData.Sales\n",
    "X_train, X_test, Y_train, Y_test= train_test_split(X, Y, random_state= 0)\n",
    "\n",
    "# write you code here to answer the above question\n",
    "##################################################\n",
    "\n",
    "\n",
    "X_train, X_test, Y_train, Y_test= train_test_split(X, Y, random_state= 0)\n",
    "linreg= LinearRegression().fit(X_train, Y_train)\n",
    "\n",
    "Target_predicted= linreg.predict(X_test) #given the feature, predict y\n",
    "MSE=mean_squared_error(Y_test,Target_predicted)\n",
    "print('Mean square error using TV feature is', MSE)\n",
    "print('The R-squared score is', linreg.score(X_test,Y_test))\n"
   ]
  },
  {
   "cell_type": "code",
   "execution_count": null,
   "metadata": {
    "collapsed": true
   },
   "outputs": [],
   "source": []
  }
 ],
 "metadata": {
  "kernelspec": {
   "display_name": "Python 3",
   "language": "python",
   "name": "python3"
  },
  "language_info": {
   "codemirror_mode": {
    "name": "ipython",
    "version": 3
   },
   "file_extension": ".py",
   "mimetype": "text/x-python",
   "name": "python",
   "nbconvert_exporter": "python",
   "pygments_lexer": "ipython3",
   "version": "3.6.8"
  }
 },
 "nbformat": 4,
 "nbformat_minor": 2
}
