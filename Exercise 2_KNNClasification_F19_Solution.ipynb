{
 "cells": [
  {
   "cell_type": "markdown",
   "metadata": {},
   "source": [
    "# Exercise 2\n",
    "\n",
    "## KNN Classifier\n",
    "\n",
    "In this exercise we implement the KNN for classification of the Iris dataset.\n",
    "\n",
    "First, understand the dataset and its contents by finding the keys and reading the description of the dataset. "
   ]
  },
  {
   "cell_type": "code",
   "execution_count": 2,
   "metadata": {},
   "outputs": [
    {
     "name": "stdout",
     "output_type": "stream",
     "text": [
      "Keys of the iris_dataset is: dict_keys(['data', 'target', 'target_names', 'DESCR', 'feature_names'])\n"
     ]
    }
   ],
   "source": [
    "from sklearn.datasets import load_iris\n",
    "iris_dataset=load_iris() #creates an object that contains the iris dataset\n",
    "print('Keys of the iris_dataset is:', iris_dataset.keys())"
   ]
  },
  {
   "cell_type": "code",
   "execution_count": 3,
   "metadata": {},
   "outputs": [
    {
     "name": "stdout",
     "output_type": "stream",
     "text": [
      "<class 'numpy.ndarray'>\n",
      "(150, 4)\n",
      "Iris Plants Database\n",
      "====================\n",
      "\n",
      "Notes\n",
      "-----\n",
      "Data Set Characteristics:\n",
      "    :Number of Instances: 150 (50 in each of three classes)\n",
      "    :Number of Attributes: 4 numeric, predictive attributes and the class\n",
      "    :Attribute Information:\n",
      "        - sepal length in cm\n",
      "        - sepal width in cm\n",
      "        - petal length in cm\n",
      "        - petal width in cm\n",
      "        - class:\n",
      "                - Iris-Setosa\n",
      "                - Iris-Versicolour\n",
      "                - Iris-Virginica\n",
      "    :Summary Statistics:\n",
      "\n",
      "    ============== ==== ==== ======= ===== ====================\n",
      "                    Min  Max   Mean    SD   Class Correlation\n",
      "    ============== ==== ==== ======= ===== ====================\n",
      "    sepal length:   4.3  7.9   5.84   0.83    0.7826\n",
      "    sepal width:    2.0  4.4   3.05   0.43   -0.4194\n",
      "    petal length:   1.0  6.9   3.76   1.76    0.9490  (high!)\n",
      "    petal width:    0.1  2.5   1.20  0.76     0.9565  (high!)\n",
      "    ============== ==== ==== ======= ===== ====================\n",
      "\n",
      "    :Missing Attribute Values: None\n",
      "    :Class Distribution: 33.3% for each of 3 classes.\n",
      "    :Creator: R.A. Fisher\n",
      "    :Donor: Michael Marshall (MARSHALL%PLU@io.arc.nasa.gov)\n",
      "    :Date: July, 1988\n",
      "\n",
      "This is a copy of UCI ML iris datasets.\n",
      "http://archive.ics.uci.edu/ml/datasets/Iris\n",
      "\n",
      "The famous Iris database, first used by Sir R.A Fisher\n",
      "\n",
      "This is perhaps the best known database to be found in the\n",
      "pattern recognition literature.  Fisher's paper is a classic in the field and\n",
      "is referenced frequently to this day.  (See Duda & Hart, for example.)  The\n",
      "data set contains 3 classes of 50 instances each, where each class refers to a\n",
      "type of iris plant.  One class is linearly separable from the other 2; the\n",
      "latter are NOT linearly separable from each other.\n",
      "\n",
      "References\n",
      "----------\n",
      "   - Fisher,R.A. \"The use of multiple measurements in taxonomic problems\"\n",
      "     Annual Eugenics, 7, Part II, 179-188 (1936); also in \"Contributions to\n",
      "     Mathematical Statistics\" (John Wiley, NY, 1950).\n",
      "   - Duda,R.O., & Hart,P.E. (1973) Pattern Classification and Scene Analysis.\n",
      "     (Q327.D83) John Wiley & Sons.  ISBN 0-471-22361-1.  See page 218.\n",
      "   - Dasarathy, B.V. (1980) \"Nosing Around the Neighborhood: A New System\n",
      "     Structure and Classification Rule for Recognition in Partially Exposed\n",
      "     Environments\".  IEEE Transactions on Pattern Analysis and Machine\n",
      "     Intelligence, Vol. PAMI-2, No. 1, 67-71.\n",
      "   - Gates, G.W. (1972) \"The Reduced Nearest Neighbor Rule\".  IEEE Transactions\n",
      "     on Information Theory, May 1972, 431-433.\n",
      "   - See also: 1988 MLC Proceedings, 54-64.  Cheeseman et al\"s AUTOCLASS II\n",
      "     conceptual clustering system finds 3 classes in the data.\n",
      "   - Many, many more ...\n",
      "\n"
     ]
    }
   ],
   "source": [
    "print(type(iris_dataset.data))\n",
    "\n",
    "print(iris_dataset.data.shape)\n",
    "\n",
    "print(iris_dataset.DESCR)\n"
   ]
  },
  {
   "cell_type": "markdown",
   "metadata": {},
   "source": [
    "#### A) To better understand the stucture of the dataset, answer the following\n",
    "1. Find type and shape of ‘data’ in the Iris_dataset\n",
    "2. Print the first five rows of ‘data’ \n",
    "3. Print the feature_names\n",
    "4. Print the target_names\n",
    "5. print type and shape of 'target'\n",
    "6. Print first 10 values of the target, then print the unique values using np.unique(iris_dataset['target'])"
   ]
  },
  {
   "cell_type": "code",
   "execution_count": 5,
   "metadata": {},
   "outputs": [
    {
     "name": "stdout",
     "output_type": "stream",
     "text": [
      "the type of the data in the Iris dataset is: <class 'numpy.ndarray'>\n",
      "the type of the data in the Iris dataset is: (150, 4)\n",
      "Printing the first five elements of data [[ 5.1  3.5  1.4  0.2]\n",
      " [ 4.9  3.   1.4  0.2]\n",
      " [ 4.7  3.2  1.3  0.2]\n",
      " [ 4.6  3.1  1.5  0.2]\n",
      " [ 5.   3.6  1.4  0.2]]\n",
      "Feature names: ['sepal length (cm)', 'sepal width (cm)', 'petal length (cm)', 'petal width (cm)']\n",
      "Target names: ['setosa' 'versicolor' 'virginica']\n",
      "Printing the first 10 elements of target [0 0 0 0 0 0 0 0 0 0] \n",
      "\n",
      "[0 1 2]\n"
     ]
    }
   ],
   "source": [
    "import numpy as np\n",
    "\n",
    "print('the type of the data in the Iris dataset is:',type(iris_dataset.data))\n",
    "\n",
    "\n",
    "print('the type of the data in the Iris dataset is:', iris_dataset['data'].shape)\n",
    "\n",
    "#printing first five rows of data\n",
    "print('Printing the first five elements of data', iris_dataset['data'][:5])\n",
    "\n",
    "print('Feature names:',iris_dataset.feature_names)\n",
    "\n",
    "print('Target names:', iris_dataset.target_names)\n",
    "\n",
    "print('Printing the first 10 elements of target', iris_dataset.target[:10],'\\n') # printing the first 10 target vaues\n",
    "\n",
    "print(np.unique(iris_dataset['target'])) # printing the different values in target "
   ]
  },
  {
   "cell_type": "markdown",
   "metadata": {},
   "source": [
    "#### B) Classify the Iris species with KNN approach using the first two feature only (X_train[:, : 2], X_test[:, : 2]), and check the accuracy as K changes. Let K takes the values [1, 5, 10, 15]. No need to scale features.\n",
    "In the code, use random_state=100 in train_test_split as below.\n",
    "\n",
    "Plot the accuracy versus K and comment on your result"
   ]
  },
  {
   "cell_type": "code",
   "execution_count": 4,
   "metadata": {},
   "outputs": [
    {
     "name": "stdout",
     "output_type": "stream",
     "text": [
      "[0.73684210526315785, 0.84210526315789469, 0.84210526315789469, 0.76315789473684215]\n"
     ]
    },
    {
     "data": {
      "image/png": "[encoded data removed]",
      "text/plain": [
       "<matplotlib.figure.Figure at 0x11936cba8>"
      ]
     },
     "metadata": {},
     "output_type": "display_data"
    }
   ],
   "source": [
    "#Follow the code below then write your own code to answer the question\n",
    "%matplotlib inline\n",
    "import matplotlib.pyplot as plt\n",
    "import pandas as pd\n",
    "from sklearn.neighbors import KNeighborsClassifier \n",
    "import numpy as np\n",
    "from sklearn.model_selection import train_test_split\n",
    "from sklearn import preprocessing\n",
    "\n",
    "\n",
    "test_accuracy=[] # you can use the .append to test_accuracy to store the result\n",
    "X_train, X_test, Y_train, Y_test = train_test_split(iris_dataset['data'],iris_dataset['target'],random_state=100)\n",
    "\n",
    "#complete your code here\n",
    "neighbor_setting =[1,5,10,15]\n",
    "\n",
    "\n",
    "for N_neighbor in neighbor_setting:\n",
    "    knn=KNeighborsClassifier(n_neighbors=N_neighbor) \n",
    "    knn.fit(X_train[:, :2], Y_train)\n",
    "    test_accuracy.append(knn.score(X_test[:, :2],Y_test))\n",
    "plt.plot(neighbor_setting,test_accuracy,label=\"test accuracy\")\n",
    "plt.ylabel(\"Accuracy\")\n",
    "plt.xlabel(\"K\")\n",
    "plt.legend()\n",
    "print (test_accuracy)"
   ]
  },
  {
   "cell_type": "markdown",
   "metadata": {},
   "source": [
    "#### Comment: With two features only, performance is higher when K=5 or 10. The performance is low when K=1 (potentially overfitting) and as K increases the performace degrades (starts to underfit)"
   ]
  },
  {
   "cell_type": "markdown",
   "metadata": {},
   "source": [
    "#### C) Use the Iris example, and find the accuracy of the KNN approach with K=5 when different number of features is used without scaling. \n",
    "\n",
    "- Hint: Here we just take features by the order they appear in the dataset. No feature selection. To use N_features only from training data use: X_train[:, : N_features ]\n",
    "\n",
    "print then plot the accuracy verus the number of feature (i.e. when using one, two, three, and the four features)\n",
    "\n"
   ]
  },
  {
   "cell_type": "code",
   "execution_count": 6,
   "metadata": {},
   "outputs": [
    {
     "name": "stdout",
     "output_type": "stream",
     "text": [
      "[0.78947368421052633, 0.84210526315789469, 0.92105263157894735, 0.97368421052631582]\n"
     ]
    },
    {
     "data": {
      "image/png": "[encoded data removed]",
      "text/plain": [
       "<matplotlib.figure.Figure at 0x12028cef0>"
      ]
     },
     "metadata": {},
     "output_type": "display_data"
    }
   ],
   "source": [
    "# You can write you code here\n",
    "\n",
    "test_accuracy2=[]\n",
    "N_neighbor=5\n",
    "Num_features= range(1,5) #range of values from [1,2,3,4] #\n",
    "\n",
    "knn=KNeighborsClassifier(n_neighbors=N_neighbor) \n",
    "\n",
    "for N_features in Num_features:\n",
    "    knn.fit(X_train[:, :N_features], Y_train)\n",
    "    test_accuracy2.append(knn.score(X_test[:, :N_features],Y_test))\n",
    "    \n",
    "plt.plot(Num_features,test_accuracy2,label=\"test accuracy\")\n",
    "plt.ylabel(\"Accuracy\")\n",
    "plt.xlabel(\"Number of features\")\n",
    "plt.legend()\n",
    "print(test_accuracy2)"
   ]
  },
  {
   "cell_type": "markdown",
   "metadata": {},
   "source": [
    "#### D) Repeat C when feature scaling with MinMaxScaler is used. Comment on your result (comparing D and C)"
   ]
  },
  {
   "cell_type": "code",
   "execution_count": 7,
   "metadata": {},
   "outputs": [
    {
     "name": "stdout",
     "output_type": "stream",
     "text": [
      "1\n",
      "0.79\n",
      "2\n",
      "0.84\n",
      "3\n",
      "0.97\n",
      "4\n",
      "0.97\n",
      "[0.78947368421052633, 0.84210526315789469, 0.97368421052631582, 0.97368421052631582]\n"
     ]
    },
    {
     "data": {
      "image/png": "[encoded data removed]",
      "text/plain": [
       "<matplotlib.figure.Figure at 0x1202863c8>"
      ]
     },
     "metadata": {},
     "output_type": "display_data"
    }
   ],
   "source": [
    "# Solution to part C) \n",
    "test_accuracy3=[]\n",
    "N_neighbor=5\n",
    "Num_features= range(1,5) #[1,2,3,4] #\n",
    "\n",
    "scaler=preprocessing.MinMaxScaler().fit(X_train)\n",
    "X_train_transformed=scaler.transform(X_train)\n",
    "X_test_transformed=scaler.transform(X_test)\n",
    "knn=KNeighborsClassifier(n_neighbors=N_neighbor) \n",
    "\n",
    "for N_features in Num_features:\n",
    "    print(N_features)\n",
    "    knn.fit(X_train_transformed[:, :N_features], Y_train)\n",
    "    test_accuracy3.append(knn.score(X_test_transformed[:, :N_features],Y_test))\n",
    "    print(\"{:.2f}\".format(knn.score(X_test_transformed[:, :N_features],Y_test)))\n",
    "plt.plot(Num_features,test_accuracy3,label=\"test accuracy\")\n",
    "plt.ylabel(\"Accuracy\")\n",
    "plt.xlabel(\"Number of features\")\n",
    "plt.legend()\n",
    "print(test_accuracy3)"
   ]
  },
  {
   "cell_type": "markdown",
   "metadata": {
    "collapsed": true
   },
   "source": [
    "Comment: Scaling has not made a significant impact on this particular dataset. A possible reason is that features are almost on the same scale, hence feature scaling has not made a significant change. The only difference is when the number of features is 3. "
   ]
  },
  {
   "cell_type": "code",
   "execution_count": null,
   "metadata": {
    "collapsed": true
   },
   "outputs": [],
   "source": []
  }
 ],
 "metadata": {
  "kernelspec": {
   "display_name": "Python 3",
   "language": "python",
   "name": "python3"
  },
  "language_info": {
   "codemirror_mode": {
    "name": "ipython",
    "version": 3
   },
   "file_extension": ".py",
   "mimetype": "text/x-python",
   "name": "python",
   "nbconvert_exporter": "python",
   "pygments_lexer": "ipython3",
   "version": "3.6.10"
  }
 },
 "nbformat": 4,
 "nbformat_minor": 2
}
